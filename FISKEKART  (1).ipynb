{
 "cells": [
  {
   "cell_type": "code",
   "execution_count": 4,
   "metadata": {},
   "outputs": [
    {
     "data": {
      "application/vnd.jupyter.widget-view+json": {
       "model_id": "4ac815d03b7941b598ca5362e916bdea",
       "version_major": 2,
       "version_minor": 0
      },
      "text/plain": [
       "Figure(layout=FigureLayout(height='420px'))"
      ]
     },
     "metadata": {},
     "output_type": "display_data"
    }
   ],
   "source": [
    "import gmaps\n",
    "import requests\n",
    "\n",
    "#henter info om rømt fisk fra fiskeridirektoratet\n",
    "info = requests.get(\"https://gis.fiskeridir.no/server/rest/services/Yggdrasil/R%C3%B8mming/FeatureServer/0/query?where=1%3D1&outFields=*&outSR=4326&f=json\")\n",
    "info = info.json()\n",
    "liste = info[\"features\"]\n",
    "\n",
    "#error : bruk egen API key her\n",
    "gmaps.configure(api_key='AI...')\n",
    "\n",
    "locations = []\n",
    "#søker gjennom APIen og tar ut kun koordinatene til de ulike lokasjoner \n",
    "for steder in liste:\n",
    "    locations.append((steder['geometry']['y'],steder['geometry']['x']))\n",
    "\n",
    "\n",
    "fig = gmaps.figure()\n",
    "markører = gmaps.marker_layer(locations)\n",
    "#adder en layer for maps med markører\n",
    "fig.add_layer(markører)\n",
    "fig\n",
    "# problems loading map? make sure to enable widgets: jupyter nbextension enable --py gmaps  / jupyter nbextension enable --py widgetsnbextension\n"
   ]
  },
  {
   "cell_type": "code",
   "execution_count": null,
   "metadata": {},
   "outputs": [],
   "source": []
  }
 ],
 "metadata": {
  "kernelspec": {
   "display_name": "Python 3",
   "language": "python",
   "name": "python3"
  },
  "language_info": {
   "codemirror_mode": {
    "name": "ipython",
    "version": 3
   },
   "file_extension": ".py",
   "mimetype": "text/x-python",
   "name": "python",
   "nbconvert_exporter": "python",
   "pygments_lexer": "ipython3",
   "version": "3.7.3"
  }
 },
 "nbformat": 4,
 "nbformat_minor": 4
}
