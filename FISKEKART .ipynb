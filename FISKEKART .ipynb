{
 "cells": [
  {
   "cell_type": "code",
   "execution_count": 1,
   "metadata": {},
   "outputs": [
    {
     "data": {
      "application/vnd.jupyter.widget-view+json": {
       "model_id": "d465ff11990d412ea6f71245c944a1c4",
       "version_major": 2,
       "version_minor": 0
      },
      "text/plain": [
       "Figure(layout=FigureLayout(height='420px'))"
      ]
     },
     "metadata": {},
     "output_type": "display_data"
    }
   ],
   "source": [
    "import gmaps\n",
    "import requests\n",
    "\n",
    "romt_fisk = requests.get(\"https://gis.fiskeridir.no/server/rest/services/Yggdrasil/R%C3%B8mming/FeatureServer/0/query?where=1%3D1&outFields=*&outSR=4326&f=json\")\n",
    "romt_fisk = romt_fisk.json()\n",
    "liste = romt_fisk[\"features\"]\n",
    "\n",
    "kake = []\n",
    "for steder in liste:\n",
    "    navn_info = steder[\"attributes\"][\"navn\"]\n",
    "    art_info = steder[\"attributes\"][\"art\"]\n",
    "    kommune_info = steder[\"attributes\"][\"kommune\"]\n",
    "    bok = str(range(len(liste)))\n",
    "    bok = {}\n",
    "    bok[\"navn\"]=navn_info\n",
    "    bok[\"art\"]=art_info\n",
    "    bok[\"kommune\"]=kommune_info\n",
    "    kake.append(bok)\n",
    "\n",
    "\n",
    "#error : bruk egen API key her\n",
    "gmaps.configure(api_key='')\n",
    "\n",
    "#søker gjennom APIen og tar ut kun koordinatene til de ulike lokasjoner \n",
    "locations = [(steder['geometry']['y'],steder['geometry']['x']) for steder in liste]\n",
    "\n",
    "#fancy\n",
    "info_box_template = \"\"\"\n",
    "<dl>\n",
    "<dt>Navn</dt><dd>{navn}</dd>\n",
    "<dt>Art</dt><dd>{art}</dd>\n",
    "<dt>Kommune</dt><dd>{kommune}</dd>\n",
    "</dl>\n",
    "\"\"\"\n",
    "plant_info = [info_box_template.format(**plant) for plant in kake]\n",
    "marker_layer = gmaps.marker_layer(locations, info_box_content=plant_info)\n",
    "fig = gmaps.figure()\n",
    "fig.add_layer(marker_layer)\n",
    "fig\n",
    "\n",
    "# problems loading map? make sure to enable widgets: jupyter nbextension enable --py gmaps  / jupyter nbextension enable --py widgetsnbextension\n"
   ]
  },
  {
   "cell_type": "code",
   "execution_count": null,
   "metadata": {},
   "outputs": [],
   "source": []
  }
 ],
 "metadata": {
  "kernelspec": {
   "display_name": "Python 3",
   "language": "python",
   "name": "python3"
  },
  "language_info": {
   "codemirror_mode": {
    "name": "ipython",
    "version": 3
   },
   "file_extension": ".py",
   "mimetype": "text/x-python",
   "name": "python",
   "nbconvert_exporter": "python",
   "pygments_lexer": "ipython3",
   "version": "3.7.3"
  }
 },
 "nbformat": 4,
 "nbformat_minor": 4
}
